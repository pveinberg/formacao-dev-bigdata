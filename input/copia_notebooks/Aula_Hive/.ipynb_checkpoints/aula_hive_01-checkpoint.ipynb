{
 "cells": [
  {
   "cell_type": "code",
   "execution_count": 1,
   "metadata": {},
   "outputs": [],
   "source": [
    "# API reference \n",
    "# https://spark.apache.org/docs/latest/api/python/reference/pyspark.sql/dataframe.html\n"
   ]
  },
  {
   "cell_type": "code",
   "execution_count": 2,
   "metadata": {},
   "outputs": [],
   "source": [
    "import argparse\n",
    "from typing import Dict, Tuple, Any\n",
    "import json\n",
    "from pyspark.sql import SparkSession, HiveContext, DataFrame\n",
    "from pyspark.sql.functions import *\n",
    "import importlib\n",
    "import pandas as pd"
   ]
  },
  {
   "cell_type": "code",
   "execution_count": 3,
   "metadata": {},
   "outputs": [
    {
     "name": "stdout",
     "output_type": "stream",
     "text": [
      "+------------+\n",
      "|databaseName|\n",
      "+------------+\n",
      "|   aula_hive|\n",
      "|     default|\n",
      "| dimensional|\n",
      "+------------+\n",
      "\n"
     ]
    }
   ],
   "source": [
    "spark.sql(\"show databases\").show()"
   ]
  },
  {
   "cell_type": "code",
   "execution_count": 4,
   "metadata": {},
   "outputs": [
    {
     "data": {
      "text/plain": [
       "DataFrame[]"
      ]
     },
     "execution_count": 4,
     "metadata": {},
     "output_type": "execute_result"
    }
   ],
   "source": [
    "spark.sql(\"use aula_hive\")"
   ]
  },
  {
   "cell_type": "code",
   "execution_count": 5,
   "metadata": {},
   "outputs": [],
   "source": [
    "tables = spark.sql(\"show tables\")"
   ]
  },
  {
   "cell_type": "code",
   "execution_count": 6,
   "metadata": {},
   "outputs": [
    {
     "name": "stdout",
     "output_type": "stream",
     "text": [
      "+---------+---------------+-----------+\n",
      "| database|      tableName|isTemporary|\n",
      "+---------+---------------+-----------+\n",
      "|aula_hive|      categoria|      false|\n",
      "|aula_hive|         cidade|      false|\n",
      "|aula_hive|        cliente|      false|\n",
      "|aula_hive|dim_localizacao|      false|\n",
      "|aula_hive|      dim_tempo|      false|\n",
      "|aula_hive|         estado|      false|\n",
      "|aula_hive|         filial|      false|\n",
      "|aula_hive|    item_pedido|      false|\n",
      "|aula_hive|       parceiro|      false|\n",
      "|aula_hive|         pedido|      false|\n",
      "|aula_hive|        produto|      false|\n",
      "|aula_hive|   subcategoria|      false|\n",
      "|aula_hive|  tbl_categoria|      false|\n",
      "|aula_hive|     tbl_cidade|      false|\n",
      "|aula_hive|    tbl_cliente|      false|\n",
      "|aula_hive|     tbl_estado|      false|\n",
      "|aula_hive|     tbl_filial|      false|\n",
      "|aula_hive|tbl_item_pedido|      false|\n",
      "|aula_hive|   tbl_parceiro|      false|\n",
      "|aula_hive|     tbl_pedido|      false|\n",
      "+---------+---------------+-----------+\n",
      "only showing top 20 rows\n",
      "\n"
     ]
    }
   ],
   "source": [
    "tables.show()"
   ]
  },
  {
   "cell_type": "code",
   "execution_count": 7,
   "metadata": {
    "scrolled": true
   },
   "outputs": [],
   "source": [
    "query = \"\"\"SELECT c.nm_cliente, sum(p.vr_total_pago) as compras \n",
    "    from pedido p\n",
    "    join cliente c on c.id_cliente = p.id_cliente\n",
    "    group by c.nm_cliente\n",
    "    order by compras desc\"\"\""
   ]
  },
  {
   "cell_type": "code",
   "execution_count": 8,
   "metadata": {},
   "outputs": [],
   "source": [
    "pedidos = spark.sql(query)"
   ]
  },
  {
   "cell_type": "code",
   "execution_count": 9,
   "metadata": {},
   "outputs": [
    {
     "name": "stdout",
     "output_type": "stream",
     "text": [
      "+--------------------+------------------+\n",
      "|          nm_cliente|           compras|\n",
      "+--------------------+------------------+\n",
      "|Cliente Magalu - ...|         260269.24|\n",
      "|Cliente Magalu - ...|123784.04999999999|\n",
      "|Cliente Magalu - ...|113467.04000000001|\n",
      "|Cliente Magalu - ...|         109644.75|\n",
      "|Cliente Magalu - ...|         107552.77|\n",
      "|Cliente Magalu - ...|103986.99999999999|\n",
      "|Cliente Magalu - ...|          84827.99|\n",
      "|Cliente Magalu - ...| 84671.79999999999|\n",
      "|Cliente Magalu - ...|           81783.0|\n",
      "|Cliente Magalu - ...|           80409.2|\n",
      "|Cliente Magalu - ...|          66494.87|\n",
      "|Cliente Magalu - ...|          60884.07|\n",
      "|Cliente Magalu - ...| 55236.64999999999|\n",
      "|Cliente Magalu - ...|52127.399999999994|\n",
      "|Cliente Magalu - ...| 52124.78999999999|\n",
      "|Cliente Magalu - ...|          48619.74|\n",
      "|Cliente Magalu - ...|          47625.24|\n",
      "|Cliente Magalu - ...|          45088.93|\n",
      "|Cliente Magalu - ...|          44087.68|\n",
      "|Cliente Magalu - ...|          42678.42|\n",
      "+--------------------+------------------+\n",
      "only showing top 20 rows\n",
      "\n"
     ]
    }
   ],
   "source": [
    "pedidos.show()"
   ]
  },
  {
   "cell_type": "code",
   "execution_count": 10,
   "metadata": {
    "scrolled": true
   },
   "outputs": [
    {
     "data": {
      "text/plain": [
       "[('nm_cliente', 'string'), ('compras', 'double')]"
      ]
     },
     "execution_count": 10,
     "metadata": {},
     "output_type": "execute_result"
    }
   ],
   "source": [
    "pedidos.dtypes"
   ]
  },
  {
   "cell_type": "code",
   "execution_count": 11,
   "metadata": {},
   "outputs": [],
   "source": [
    "categorias = spark.sql(\"select * from categoria\")"
   ]
  },
  {
   "cell_type": "code",
   "execution_count": 12,
   "metadata": {},
   "outputs": [
    {
     "name": "stdout",
     "output_type": "stream",
     "text": [
      "+------------+---------------+-------------+\n",
      "|id_categoria|   ds_categoria|perc_parceiro|\n",
      "+------------+---------------+-------------+\n",
      "|id_categoria|   ds_categoria|perc_parceiro|\n",
      "|           1|Categoria - 001|          2.0|\n",
      "|           2|Categoria - 002|          2.0|\n",
      "|           3|Categoria - 003|          2.0|\n",
      "|           4|Categoria - 004|          2.0|\n",
      "|           5|Categoria - 005|          5.0|\n",
      "|           6|Categoria - 006|          1.0|\n",
      "|           7|Categoria - 007|          5.0|\n",
      "|           8|Categoria - 008|          3.0|\n",
      "|           9|Categoria - 009|          5.0|\n",
      "|          10|Categoria - 010|          6.0|\n",
      "|          11|Categoria - 011|          6.0|\n",
      "|          12|Categoria - 012|          4.0|\n",
      "|          13|Categoria - 013|          3.0|\n",
      "|          14|Categoria - 014|          1.0|\n",
      "|          15|Categoria - 015|          4.0|\n",
      "|          16|Categoria - 016|          3.0|\n",
      "|          17|Categoria - 017|          5.0|\n",
      "|          18|Categoria - 018|          1.0|\n",
      "|          19|Categoria - 019|          2.0|\n",
      "+------------+---------------+-------------+\n",
      "only showing top 20 rows\n",
      "\n"
     ]
    }
   ],
   "source": [
    "categorias.show()"
   ]
  },
  {
   "cell_type": "code",
   "execution_count": 13,
   "metadata": {},
   "outputs": [],
   "source": [
    "categorias = categorias.filter(categorias.id_categoria != 'id_categoria').drop()"
   ]
  },
  {
   "cell_type": "code",
   "execution_count": 14,
   "metadata": {},
   "outputs": [
    {
     "name": "stdout",
     "output_type": "stream",
     "text": [
      "+------------+---------------+-------------+\n",
      "|id_categoria|   ds_categoria|perc_parceiro|\n",
      "+------------+---------------+-------------+\n",
      "|           1|Categoria - 001|          2.0|\n",
      "|           2|Categoria - 002|          2.0|\n",
      "|           3|Categoria - 003|          2.0|\n",
      "|           4|Categoria - 004|          2.0|\n",
      "|           5|Categoria - 005|          5.0|\n",
      "|           6|Categoria - 006|          1.0|\n",
      "|           7|Categoria - 007|          5.0|\n",
      "|           8|Categoria - 008|          3.0|\n",
      "|           9|Categoria - 009|          5.0|\n",
      "|          10|Categoria - 010|          6.0|\n",
      "|          11|Categoria - 011|          6.0|\n",
      "|          12|Categoria - 012|          4.0|\n",
      "|          13|Categoria - 013|          3.0|\n",
      "|          14|Categoria - 014|          1.0|\n",
      "|          15|Categoria - 015|          4.0|\n",
      "|          16|Categoria - 016|          3.0|\n",
      "|          17|Categoria - 017|          5.0|\n",
      "|          18|Categoria - 018|          1.0|\n",
      "|          19|Categoria - 019|          2.0|\n",
      "|          20|Categoria - 020|          5.0|\n",
      "+------------+---------------+-------------+\n",
      "only showing top 20 rows\n",
      "\n"
     ]
    }
   ],
   "source": [
    "categorias.show()"
   ]
  },
  {
   "cell_type": "code",
   "execution_count": 15,
   "metadata": {},
   "outputs": [
    {
     "data": {
      "text/plain": [
       "43"
      ]
     },
     "execution_count": 15,
     "metadata": {},
     "output_type": "execute_result"
    }
   ],
   "source": [
    "categorias.count()"
   ]
  },
  {
   "cell_type": "code",
   "execution_count": 16,
   "metadata": {},
   "outputs": [
    {
     "name": "stdout",
     "output_type": "stream",
     "text": [
      "+--------------------+------------------+\n",
      "|          nm_cliente|           compras|\n",
      "+--------------------+------------------+\n",
      "|Cliente Magalu - ...|         260269.24|\n",
      "|Cliente Magalu - ...|123784.04999999999|\n",
      "|Cliente Magalu - ...|113467.04000000001|\n",
      "|Cliente Magalu - ...|         109644.75|\n",
      "|Cliente Magalu - ...|         107552.77|\n",
      "+--------------------+------------------+\n",
      "only showing top 5 rows\n",
      "\n"
     ]
    }
   ],
   "source": [
    "pedidos.show(5)"
   ]
  },
  {
   "cell_type": "code",
   "execution_count": null,
   "metadata": {},
   "outputs": [],
   "source": [
    "pedidos.printSchema()"
   ]
  },
  {
   "cell_type": "markdown",
   "metadata": {},
   "source": [
    "## Carga todos os dataframes"
   ]
  },
  {
   "cell_type": "code",
   "execution_count": 36,
   "metadata": {},
   "outputs": [],
   "source": [
    "df_categoria = spark.sql(\"select * from aula_hive.categoria\")\n",
    "df_cidade = spark.sql(\"select * from aula_hive.cidade\")\n",
    "df_cliente = spark.sql(\"select * from aula_hive.cliente\")\n",
    "df_estado = spark.sql(\"select * from aula_hive.estado\")\n",
    "df_filial = spark.sql(\"select * from aula_hive.filial\")\n",
    "df_item_pedido = spark.sql(\"select * from aula_hive.item_pedido\")\n",
    "df_parceiro = spark.sql(\"select * from aula_hive.parceiro\")\n",
    "df_pedido = spark.sql(\"select * from aula_hive.pedido\")\n",
    "df_produto = spark.sql(\"select * from aula_hive.produto\")\n",
    "df_subcategoria = spark.sql(\"select * from aula_hive.subcategoria\")"
   ]
  },
  {
   "cell_type": "markdown",
   "metadata": {},
   "source": [
    "## Tratamento do DF Cidade"
   ]
  },
  {
   "cell_type": "code",
   "execution_count": 41,
   "metadata": {},
   "outputs": [
    {
     "data": {
      "text/plain": [
       "pyspark.sql.dataframe.DataFrame"
      ]
     },
     "execution_count": 41,
     "metadata": {},
     "output_type": "execute_result"
    }
   ],
   "source": [
    "type(df_cidade)"
   ]
  },
  {
   "cell_type": "code",
   "execution_count": 56,
   "metadata": {},
   "outputs": [],
   "source": [
    "# df_cidade = df_cidade.toPandas()\n",
    "df_cidade = df_cidade.iloc[1:,:]"
   ]
  },
  {
   "cell_type": "code",
   "execution_count": 57,
   "metadata": {},
   "outputs": [
    {
     "data": {
      "text/html": [
       "<div>\n",
       "<style scoped>\n",
       "    .dataframe tbody tr th:only-of-type {\n",
       "        vertical-align: middle;\n",
       "    }\n",
       "\n",
       "    .dataframe tbody tr th {\n",
       "        vertical-align: top;\n",
       "    }\n",
       "\n",
       "    .dataframe thead th {\n",
       "        text-align: right;\n",
       "    }\n",
       "</style>\n",
       "<table border=\"1\" class=\"dataframe\">\n",
       "  <thead>\n",
       "    <tr style=\"text-align: right;\">\n",
       "      <th></th>\n",
       "      <th>id_cidade</th>\n",
       "      <th>ds_cidade</th>\n",
       "      <th>id_estado</th>\n",
       "    </tr>\n",
       "  </thead>\n",
       "  <tbody>\n",
       "    <tr>\n",
       "      <th>1</th>\n",
       "      <td>1058</td>\n",
       "      <td>Betim</td>\n",
       "      <td>1</td>\n",
       "    </tr>\n",
       "    <tr>\n",
       "      <th>2</th>\n",
       "      <td>33</td>\n",
       "      <td>ACRELANDIA</td>\n",
       "      <td>2</td>\n",
       "    </tr>\n",
       "    <tr>\n",
       "      <th>3</th>\n",
       "      <td>485</td>\n",
       "      <td>ASSIS BRASIL</td>\n",
       "      <td>2</td>\n",
       "    </tr>\n",
       "    <tr>\n",
       "      <th>4</th>\n",
       "      <td>958</td>\n",
       "      <td>BRASILEIA</td>\n",
       "      <td>2</td>\n",
       "    </tr>\n",
       "    <tr>\n",
       "      <th>5</th>\n",
       "      <td>1388</td>\n",
       "      <td>CAPIXABA</td>\n",
       "      <td>2</td>\n",
       "    </tr>\n",
       "  </tbody>\n",
       "</table>\n",
       "</div>"
      ],
      "text/plain": [
       "  id_cidade     ds_cidade id_estado\n",
       "1      1058         Betim         1\n",
       "2        33    ACRELANDIA         2\n",
       "3       485  ASSIS BRASIL         2\n",
       "4       958     BRASILEIA         2\n",
       "5      1388      CAPIXABA         2"
      ]
     },
     "execution_count": 57,
     "metadata": {},
     "output_type": "execute_result"
    }
   ],
   "source": [
    "df_cidade.head()"
   ]
  },
  {
   "cell_type": "code",
   "execution_count": 62,
   "metadata": {},
   "outputs": [
    {
     "name": "stderr",
     "output_type": "stream",
     "text": [
      "/opt/anaconda3/lib/python3.6/site-packages/ipykernel/__main__.py:1: SettingWithCopyWarning: \n",
      "A value is trying to be set on a copy of a slice from a DataFrame.\n",
      "Try using .loc[row_indexer,col_indexer] = value instead\n",
      "\n",
      "See the caveats in the documentation: http://pandas.pydata.org/pandas-docs/stable/user_guide/indexing.html#returning-a-view-versus-a-copy\n",
      "  if __name__ == '__main__':\n"
     ]
    }
   ],
   "source": [
    "df_cidade['ds_cidade'] = pd.Series(df_cidade['ds_cidade'].apply(lambda name: name.title()))"
   ]
  },
  {
   "cell_type": "code",
   "execution_count": 65,
   "metadata": {},
   "outputs": [],
   "source": [
    "# Save to parquet\n",
    "df_cidade.to_parquet('cidades.parquet')"
   ]
  },
  {
   "cell_type": "markdown",
   "metadata": {},
   "source": [
    "## Tratamento do DF cliente"
   ]
  },
  {
   "cell_type": "code",
   "execution_count": 67,
   "metadata": {},
   "outputs": [],
   "source": [
    "df_cliente = df_cliente.toPandas()"
   ]
  },
  {
   "cell_type": "code",
   "execution_count": 70,
   "metadata": {},
   "outputs": [],
   "source": [
    "df_cliente = df_cliente.iloc[1:,:]"
   ]
  },
  {
   "cell_type": "code",
   "execution_count": 76,
   "metadata": {},
   "outputs": [],
   "source": [
    "df_cliente['flag_ouro'] = df_cliente['flag_ouro'].astype('int')"
   ]
  },
  {
   "cell_type": "code",
   "execution_count": 78,
   "metadata": {},
   "outputs": [],
   "source": [
    "df_cliente.to_parquet('clientes.parquet')"
   ]
  },
  {
   "cell_type": "markdown",
   "metadata": {},
   "source": [
    "## Tratamento do DF de pedidos e itens do pedido"
   ]
  },
  {
   "cell_type": "code",
   "execution_count": 80,
   "metadata": {},
   "outputs": [
    {
     "name": "stdout",
     "output_type": "stream",
     "text": [
      "+-----------+--------------------+-----------+----------+---------+-------------+\n",
      "|  id_pedido|           dt_pedido|id_parceiro|id_cliente|id_filial|vr_total_pago|\n",
      "+-----------+--------------------+-----------+----------+---------+-------------+\n",
      "|  id_pedido|           dt_pedido|id_parceiro|id_cliente|id_filial|vr_total_pago|\n",
      "|47585891513|2021-06-23T00:00:...|         13|  33752975|      166|       318.48|\n",
      "|49524083516|2021-08-03T00:00:...|         16|  43670652|      166|       249.59|\n",
      "|49130099513|2021-07-26T00:00:...|         13|  47130570|      166|        64.87|\n",
      "|49579056516|2021-08-04T00:00:...|         16|  16190735|      497|        93.59|\n",
      "| 4868385806|2021-07-16T00:00:...|          6|  74672887|      497|       311.87|\n",
      "|49959025513|2021-08-13T00:00:...|         13|  64040325|      497|        64.99|\n",
      "|49579056513|2021-08-04T00:00:...|         13|  16190735|      497|       376.98|\n",
      "| 4962532626|2021-08-05T00:00:...|          6|   8571960|      497|       175.37|\n",
      "| 4976142355|2021-08-09T00:00:...|          5|  16423425|      497|        19.37|\n",
      "+-----------+--------------------+-----------+----------+---------+-------------+\n",
      "only showing top 10 rows\n",
      "\n"
     ]
    }
   ],
   "source": [
    "df_pedido.show(10)"
   ]
  },
  {
   "cell_type": "code",
   "execution_count": 81,
   "metadata": {},
   "outputs": [
    {
     "name": "stdout",
     "output_type": "stream",
     "text": [
      "+----------+----------+----------+-----------+\n",
      "| id_pedido|id_produto|quantidade|vr_unitario|\n",
      "+----------+----------+----------+-----------+\n",
      "| id_pedido|id_produto|quantidade|vr_unitario|\n",
      "|4662926103|     29409|         1|     326.17|\n",
      "|4855037753|     29409|         1|     326.17|\n",
      "|4907077773|     29409|         1|     326.17|\n",
      "|4907059553|     29409|         1|     326.17|\n",
      "|4684176673|     29409|         1|     326.17|\n",
      "|4700416275|     31772|         2|      51.74|\n",
      "|5039703375|     31772|         1|      25.87|\n",
      "|4737269456|     35926|         1|     562.77|\n",
      "|4927459856|     35926|         1|     562.77|\n",
      "+----------+----------+----------+-----------+\n",
      "only showing top 10 rows\n",
      "\n"
     ]
    }
   ],
   "source": [
    "df_item_pedido.show(10)"
   ]
  }
 ],
 "metadata": {
  "kernelspec": {
   "display_name": "PySpark",
   "language": "python",
   "name": "pyspark"
  },
  "language_info": {
   "codemirror_mode": {
    "name": "ipython",
    "version": 3
   },
   "file_extension": ".py",
   "mimetype": "text/x-python",
   "name": "python",
   "nbconvert_exporter": "python",
   "pygments_lexer": "ipython3",
   "version": "3.6.10"
  }
 },
 "nbformat": 4,
 "nbformat_minor": 2
}
