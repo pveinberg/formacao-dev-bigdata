{
 "cells": [
  {
   "cell_type": "code",
   "execution_count": 1,
   "metadata": {},
   "outputs": [],
   "source": [
    "import pandas as pd\n",
    "import numpy as np\n",
    "import matplotlib.pyplot as plt"
   ]
  },
  {
   "cell_type": "code",
   "execution_count": 2,
   "metadata": {},
   "outputs": [],
   "source": [
    "fato = pd.read_parquet('fato.parquet')"
   ]
  },
  {
   "cell_type": "code",
   "execution_count": 3,
   "metadata": {},
   "outputs": [
    {
     "data": {
      "text/html": [
       "<div>\n",
       "<style scoped>\n",
       "    .dataframe tbody tr th:only-of-type {\n",
       "        vertical-align: middle;\n",
       "    }\n",
       "\n",
       "    .dataframe tbody tr th {\n",
       "        vertical-align: top;\n",
       "    }\n",
       "\n",
       "    .dataframe thead th {\n",
       "        text-align: right;\n",
       "    }\n",
       "</style>\n",
       "<table border=\"1\" class=\"dataframe\">\n",
       "  <thead>\n",
       "    <tr style=\"text-align: right;\">\n",
       "      <th></th>\n",
       "      <th>id_pedido</th>\n",
       "      <th>dt_pedido</th>\n",
       "      <th>id_parceiro</th>\n",
       "      <th>id_cliente</th>\n",
       "      <th>id_filial</th>\n",
       "      <th>vr_total_pago</th>\n",
       "      <th>id_produto</th>\n",
       "      <th>quantidade</th>\n",
       "      <th>vr_unitario</th>\n",
       "      <th>nm_cliente</th>\n",
       "      <th>...</th>\n",
       "      <th>dt_semana</th>\n",
       "      <th>ds_subcategoria</th>\n",
       "      <th>id_categoria</th>\n",
       "      <th>ds_categoria</th>\n",
       "      <th>perc_parceiro</th>\n",
       "      <th>ds_filial</th>\n",
       "      <th>id_cidade</th>\n",
       "      <th>ds_cidade</th>\n",
       "      <th>id_estado</th>\n",
       "      <th>ds_estado</th>\n",
       "    </tr>\n",
       "  </thead>\n",
       "  <tbody>\n",
       "    <tr>\n",
       "      <th>0</th>\n",
       "      <td>46626099016</td>\n",
       "      <td>2021-06-02 00:00:00+00:00</td>\n",
       "      <td>16</td>\n",
       "      <td>138633690</td>\n",
       "      <td>547</td>\n",
       "      <td>194.99</td>\n",
       "      <td>5077094</td>\n",
       "      <td>1.0</td>\n",
       "      <td>194.99</td>\n",
       "      <td>Cliente Magalu - 0138633690</td>\n",
       "      <td>...</td>\n",
       "      <td>22</td>\n",
       "      <td>Sub-categoria - 01588</td>\n",
       "      <td>27</td>\n",
       "      <td>Categoria - 027</td>\n",
       "      <td>2.0</td>\n",
       "      <td>Filial - 000547</td>\n",
       "      <td>4</td>\n",
       "      <td>Abadia Dos Dourados</td>\n",
       "      <td>14</td>\n",
       "      <td>MG</td>\n",
       "    </tr>\n",
       "    <tr>\n",
       "      <th>1</th>\n",
       "      <td>46643323216</td>\n",
       "      <td>2021-06-02 00:00:00+00:00</td>\n",
       "      <td>16</td>\n",
       "      <td>131867810</td>\n",
       "      <td>547</td>\n",
       "      <td>71.49</td>\n",
       "      <td>872394</td>\n",
       "      <td>1.0</td>\n",
       "      <td>71.49</td>\n",
       "      <td>Cliente Magalu - 0131867810</td>\n",
       "      <td>...</td>\n",
       "      <td>22</td>\n",
       "      <td>Sub-categoria - 01588</td>\n",
       "      <td>27</td>\n",
       "      <td>Categoria - 027</td>\n",
       "      <td>2.0</td>\n",
       "      <td>Filial - 000547</td>\n",
       "      <td>4</td>\n",
       "      <td>Abadia Dos Dourados</td>\n",
       "      <td>14</td>\n",
       "      <td>MG</td>\n",
       "    </tr>\n",
       "    <tr>\n",
       "      <th>2</th>\n",
       "      <td>46954214716</td>\n",
       "      <td>2021-06-09 00:00:00+00:00</td>\n",
       "      <td>16</td>\n",
       "      <td>48354045</td>\n",
       "      <td>547</td>\n",
       "      <td>58.49</td>\n",
       "      <td>872394</td>\n",
       "      <td>1.0</td>\n",
       "      <td>58.49</td>\n",
       "      <td>Cliente Magalu - 0048354045</td>\n",
       "      <td>...</td>\n",
       "      <td>23</td>\n",
       "      <td>Sub-categoria - 01588</td>\n",
       "      <td>27</td>\n",
       "      <td>Categoria - 027</td>\n",
       "      <td>2.0</td>\n",
       "      <td>Filial - 000547</td>\n",
       "      <td>4</td>\n",
       "      <td>Abadia Dos Dourados</td>\n",
       "      <td>14</td>\n",
       "      <td>MG</td>\n",
       "    </tr>\n",
       "    <tr>\n",
       "      <th>3</th>\n",
       "      <td>46702119016</td>\n",
       "      <td>2021-06-03 00:00:00+00:00</td>\n",
       "      <td>16</td>\n",
       "      <td>137306537</td>\n",
       "      <td>547</td>\n",
       "      <td>71.49</td>\n",
       "      <td>872394</td>\n",
       "      <td>1.0</td>\n",
       "      <td>71.49</td>\n",
       "      <td>Cliente Magalu - 0137306537</td>\n",
       "      <td>...</td>\n",
       "      <td>22</td>\n",
       "      <td>Sub-categoria - 01588</td>\n",
       "      <td>27</td>\n",
       "      <td>Categoria - 027</td>\n",
       "      <td>2.0</td>\n",
       "      <td>Filial - 000547</td>\n",
       "      <td>4</td>\n",
       "      <td>Abadia Dos Dourados</td>\n",
       "      <td>14</td>\n",
       "      <td>MG</td>\n",
       "    </tr>\n",
       "    <tr>\n",
       "      <th>4</th>\n",
       "      <td>48237899716</td>\n",
       "      <td>2021-07-07 00:00:00+00:00</td>\n",
       "      <td>16</td>\n",
       "      <td>68739167</td>\n",
       "      <td>547</td>\n",
       "      <td>81.89</td>\n",
       "      <td>4604763</td>\n",
       "      <td>1.0</td>\n",
       "      <td>81.89</td>\n",
       "      <td>Cliente Magalu - 0068739167</td>\n",
       "      <td>...</td>\n",
       "      <td>27</td>\n",
       "      <td>Sub-categoria - 01588</td>\n",
       "      <td>27</td>\n",
       "      <td>Categoria - 027</td>\n",
       "      <td>2.0</td>\n",
       "      <td>Filial - 000547</td>\n",
       "      <td>4</td>\n",
       "      <td>Abadia Dos Dourados</td>\n",
       "      <td>14</td>\n",
       "      <td>MG</td>\n",
       "    </tr>\n",
       "  </tbody>\n",
       "</table>\n",
       "<p>5 rows × 27 columns</p>\n",
       "</div>"
      ],
      "text/plain": [
       "     id_pedido                 dt_pedido id_parceiro id_cliente id_filial  \\\n",
       "0  46626099016 2021-06-02 00:00:00+00:00          16  138633690       547   \n",
       "1  46643323216 2021-06-02 00:00:00+00:00          16  131867810       547   \n",
       "2  46954214716 2021-06-09 00:00:00+00:00          16   48354045       547   \n",
       "3  46702119016 2021-06-03 00:00:00+00:00          16  137306537       547   \n",
       "4  48237899716 2021-07-07 00:00:00+00:00          16   68739167       547   \n",
       "\n",
       "   vr_total_pago id_produto  quantidade  vr_unitario  \\\n",
       "0         194.99    5077094         1.0       194.99   \n",
       "1          71.49     872394         1.0        71.49   \n",
       "2          58.49     872394         1.0        58.49   \n",
       "3          71.49     872394         1.0        71.49   \n",
       "4          81.89    4604763         1.0        81.89   \n",
       "\n",
       "                    nm_cliente  ...  dt_semana        ds_subcategoria  \\\n",
       "0  Cliente Magalu - 0138633690  ...         22  Sub-categoria - 01588   \n",
       "1  Cliente Magalu - 0131867810  ...         22  Sub-categoria - 01588   \n",
       "2  Cliente Magalu - 0048354045  ...         23  Sub-categoria - 01588   \n",
       "3  Cliente Magalu - 0137306537  ...         22  Sub-categoria - 01588   \n",
       "4  Cliente Magalu - 0068739167  ...         27  Sub-categoria - 01588   \n",
       "\n",
       "  id_categoria     ds_categoria  perc_parceiro        ds_filial  id_cidade  \\\n",
       "0           27  Categoria - 027            2.0  Filial - 000547          4   \n",
       "1           27  Categoria - 027            2.0  Filial - 000547          4   \n",
       "2           27  Categoria - 027            2.0  Filial - 000547          4   \n",
       "3           27  Categoria - 027            2.0  Filial - 000547          4   \n",
       "4           27  Categoria - 027            2.0  Filial - 000547          4   \n",
       "\n",
       "             ds_cidade id_estado ds_estado  \n",
       "0  Abadia Dos Dourados        14        MG  \n",
       "1  Abadia Dos Dourados        14        MG  \n",
       "2  Abadia Dos Dourados        14        MG  \n",
       "3  Abadia Dos Dourados        14        MG  \n",
       "4  Abadia Dos Dourados        14        MG  \n",
       "\n",
       "[5 rows x 27 columns]"
      ]
     },
     "execution_count": 3,
     "metadata": {},
     "output_type": "execute_result"
    }
   ],
   "source": [
    "fato.head()"
   ]
  },
  {
   "cell_type": "code",
   "execution_count": 4,
   "metadata": {},
   "outputs": [],
   "source": [
    "# Vendas por estado (em reais)\n",
    "vendas_por_estado = fato.groupby('ds_estado')['vr_total_pago'].sum()"
   ]
  },
  {
   "cell_type": "code",
   "execution_count": 5,
   "metadata": {},
   "outputs": [
    {
     "data": {
      "text/plain": [
       "<matplotlib.axes._subplots.AxesSubplot at 0x7f8ecf940d68>"
      ]
     },
     "execution_count": 5,
     "metadata": {},
     "output_type": "execute_result"
    },
    {
     "data": {
      "image/png": "[encoded data removed]",
      "text/plain": [
       "<Figure size 432x288 with 1 Axes>"
      ]
     },
     "metadata": {},
     "output_type": "display_data"
    }
   ],
   "source": [
    "pd.DataFrame(vendas_por_estado).reset_index().sort_values(by='vr_total_pago') \\\n",
    "    .plot.barh(y='vr_total_pago', x='ds_estado')"
   ]
  },
  {
   "cell_type": "code",
   "execution_count": 6,
   "metadata": {},
   "outputs": [],
   "source": [
    "# Vendas por estado (em quantidade)\n",
    "volume_por_estado = fato.groupby('ds_estado')['quantidade'].sum()"
   ]
  },
  {
   "cell_type": "code",
   "execution_count": 8,
   "metadata": {},
   "outputs": [
    {
     "data": {
      "text/plain": [
       "<matplotlib.axes._subplots.AxesSubplot at 0x7f8f0c38c518>"
      ]
     },
     "execution_count": 8,
     "metadata": {},
     "output_type": "execute_result"
    },
    {
     "data": {
      "image/png": "[encoded data removed]",
      "text/plain": [
       "<Figure size 432x288 with 1 Axes>"
      ]
     },
     "metadata": {},
     "output_type": "display_data"
    }
   ],
   "source": [
    "pd.DataFrame(volume_por_estado).reset_index().sort_values(by='quantidade') \\\n",
    "    .plot.barh(y='quantidade', x='ds_estado')"
   ]
  },
  {
   "cell_type": "code",
   "execution_count": null,
   "metadata": {},
   "outputs": [],
   "source": []
  }
 ],
 "metadata": {
  "kernelspec": {
   "display_name": "PySpark",
   "language": "python",
   "name": "pyspark"
  },
  "language_info": {
   "codemirror_mode": {
    "name": "ipython",
    "version": 3
   },
   "file_extension": ".py",
   "mimetype": "text/x-python",
   "name": "python",
   "nbconvert_exporter": "python",
   "pygments_lexer": "ipython3",
   "version": "3.6.10"
  }
 },
 "nbformat": 4,
 "nbformat_minor": 2
}
